{
 "cells": [
  {
   "cell_type": "code",
   "execution_count": null,
   "metadata": {},
   "outputs": [],
   "source": [
    "!pip install requirements.txt\n",
    "# pytorch needs to be installed to proceed. For installation go to: https://pytorch.org/get-started/locally/"
   ]
  },
  {
   "cell_type": "code",
   "execution_count": null,
   "metadata": {},
   "outputs": [],
   "source": [
    "# Model training\n",
    "\n",
    "!mkdir Model_trained\n",
    "\n",
    "from trainModelAndSave import trainmodelandsave\n",
    "\n",
    "model_name = \"LeNet\"\n",
    "\n",
    "trainmodelandsave(model_name)"
   ]
  },
  {
   "cell_type": "code",
   "execution_count": null,
   "metadata": {},
   "outputs": [],
   "source": [
    "# Sparsefool test\n",
    "!mkdir output\n",
    "!mkdir data/input\n",
    "\n",
    "# Download the mnistasjpg from : https://www.kaggle.com/scolianni/mnistasjpg/download, and extract it in the input folder \n",
    "\n",
    "from sparsefool_test import sparsefool_generate\n",
    "\n",
    "model_path = \"Model_trained/LeNet.pth\"\n",
    "input_dir = \"./data/input/\"\n",
    "output_dir = \"./output/\" # the last slash is important !\n",
    "\n",
    "sparsefool_generate(input_dir, output_dir, num=1000, delta=25, max_iter=20)"
   ]
  },
  {
   "cell_type": "code",
   "execution_count": null,
   "metadata": {},
   "outputs": [],
   "source": [
    "# Transferabilty test\n",
    "\n",
    "# Place the sample you want to test in a directory \n",
    "\n",
    "from transferabilityTest import transferability_test\n",
    "\n",
    "model_path = \"Model_trained/LeNet.pth\"\n",
    "input_path = \"ouput/fooledimages/\"\n",
    "\n",
    "\n",
    "transferability_test(model_path, input_path, num=10000, delta=50, max_iter=20)"
   ]
  }
 ],
 "metadata": {
  "kernelspec": {
   "display_name": "Python 3",
   "language": "python",
   "name": "python3"
  },
  "language_info": {
   "codemirror_mode": {
    "name": "ipython",
    "version": 3
   },
   "file_extension": ".py",
   "mimetype": "text/x-python",
   "name": "python",
   "nbconvert_exporter": "python",
   "pygments_lexer": "ipython3",
   "version": "3.7.5"
  }
 },
 "nbformat": 4,
 "nbformat_minor": 4
}
